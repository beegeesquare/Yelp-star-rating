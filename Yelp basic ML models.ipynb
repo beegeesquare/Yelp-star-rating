{
 "cells": [
  {
   "cell_type": "code",
   "execution_count": 1,
   "metadata": {
    "collapsed": true
   },
   "outputs": [],
   "source": [
    "%matplotlib inline\n",
    "import matplotlib\n",
    "import seaborn as sns\n",
    "matplotlib.rcParams['savefig.dpi'] = 144"
   ]
  },
  {
   "cell_type": "markdown",
   "metadata": {},
   "source": [
    "# ML: Predicting Star Ratings\n",
    "\n",
    "Our objective is to predict a new venue's popularity from information available when the venue opens.  We will do this by machine learning from a dataset of venue popularities provided by Yelp.  The dataset contains meta data about the venue (where it is located, the type of food served, etc.).  It also contains a star rating. Note that the venues are not limited to restaurants. We will walk you through one way to build a machine-learning algorithm.\n",
    "\n",
    "## Metric\n",
    "\n",
    "Your model will be assessed based on the root mean squared error of the number of stars you predict.  \n",
    "\n",
    "## Download and parse the incoming data\n",
    "\n",
    "We start by downloading the dataset from Amazon S3:"
   ]
  },
  {
   "cell_type": "code",
   "execution_count": 7,
   "metadata": {},
   "outputs": [
    {
     "name": "stderr",
     "output_type": "stream",
     "text": [
      "fatal error: Unable to locate credentials\n"
     ]
    }
   ],
   "source": [
    "!aws s3 cp s3://mmlc-data/yelp_train_academic_dataset_business.json.gz ."
   ]
  },
  {
   "cell_type": "markdown",
   "metadata": {},
   "source": [
    "Download the file from this AWS [link](https://s3.amazonaws.com/mmlc-data/yelp_train_academic_dataset_business.json.gz). This file is only a sample of the full data `yelp_train_academic_dataset_business.json`"
   ]
  },
  {
   "cell_type": "markdown",
   "metadata": {},
   "source": [
    "The training data are a series of JSON objects, in a gzipped file. \n",
    "\n",
    "Python supports gzipped files natively: [gzip.open](https://docs.python.org/2/library/gzip.html) has the same interface as `open`, but handles `.gz` files automatically.\n",
    "\n",
    "The built-in json package has a `loads()` function that converts a JSON string into a Python dictionary.  We could call that once for each row of the file. [ujson](http://docs.micropython.org/en/latest/library/ujson.html) has the same interface as the built-in `json` library, but is *substantially* faster (at the cost of non-robust handling of malformed json).  We will use that inside a list comprehension to get a list of dictionaries:"
   ]
  },
  {
   "cell_type": "code",
   "execution_count": 2,
   "metadata": {
    "collapsed": true
   },
   "outputs": [],
   "source": [
    "import ujson as json\n",
    "import gzip\n",
    "\n",
    "with gzip.open('yelp_train_academic_dataset_business.json.gz') as f:\n",
    "    data = [json.loads(line) for line in f] # List comprehensions are much faster"
   ]
  },
  {
   "cell_type": "code",
   "execution_count": 3,
   "metadata": {},
   "outputs": [
    {
     "name": "stdout",
     "output_type": "stream",
     "text": [
      "Total data points: 37938\n"
     ]
    }
   ],
   "source": [
    "print ('Total data points: {0}'.format(len(data)))"
   ]
  },
  {
   "cell_type": "code",
   "execution_count": 4,
   "metadata": {},
   "outputs": [
    {
     "name": "stdout",
     "output_type": "stream",
     "text": [
      "{'business_id': 'XrzTVrJAjs0yYLvhFI9vkQ', 'full_address': '5508 Broadhead St\\nMc Farland, WI 53558', 'hours': {}, 'open': True, 'categories': ['Hotels & Travel', 'Bed & Breakfast', 'Event Planning & Services', 'Hotels'], 'city': 'Mc Farland', 'review_count': 9, 'name': 'Parsonage Bed & Breakfast the', 'neighborhoods': [], 'longitude': -89.285206, 'state': 'WI', 'stars': 5.0, 'latitude': 43.015931, 'attributes': {'Accepts Credit Cards': True, 'Wi-Fi': 'free', 'Price Range': 2}, 'type': 'business'}\n"
     ]
    }
   ],
   "source": [
    "print (data[10])"
   ]
  },
  {
   "cell_type": "markdown",
   "metadata": {},
   "source": [
    "In Scikit Learn, the labels to be predicted, in this case, the stars, are always kept in a separate data structure than the features.  Let's get in this habit now, by creating a separate list of the ratings:"
   ]
  },
  {
   "cell_type": "code",
   "execution_count": 5,
   "metadata": {
    "collapsed": true
   },
   "outputs": [],
   "source": [
    "# Create star-rating list, consists of stars for each data-point\n",
    "star_ratings = [row['stars'] for row in data]"
   ]
  },
  {
   "cell_type": "code",
   "execution_count": 6,
   "metadata": {},
   "outputs": [
    {
     "name": "stdout",
     "output_type": "stream",
     "text": [
      "[3.5, 4.0, 4.0, 4.5, 4.0]\n"
     ]
    }
   ],
   "source": [
    "print (star_ratings[0:5])"
   ]
  },
  {
   "cell_type": "markdown",
   "metadata": {},
   "source": [
    "### Notes:\n",
    "1. [Pandas](http://pandas.pydata.org/) is able to read JSON text directly.  Use the `read_json()` function with the `lines=True` keyword argument.  While the rest of this notebook will assume you are using a list of dictionaries, you can complete it with dataframes, if you so desire.  Some of the example code will need to be modified in this case.\n",
    "\n",
    "2. There are obvious miscodings in the data.  There is no need to try to correct them."
   ]
  },
  {
   "cell_type": "markdown",
   "metadata": {},
   "source": [
    "## city_avg\n",
    "The venues belong to different cities.  You can image that the ratings in some cities are probably higher than others.  We wish to build an estimator to make a prediction based on this, but first we need to work out the average rating for each city.  For this problem, create a list of tuples (city name, star rating), one for each city in the dataset.\n",
    "\n",
    "A simple approach is to go through all of the dictionaries in our array, calculating the sum of the star ratings and the number of venues for each city.  At the end, we can just divide the stars by the count to get the average.\n",
    "\n",
    "We could create a separate sum and count variable for each city, but that will get tedious quickly.  A better approach to to create a dictionary for each.  The key will be the city name, and the value the running sum or running count.\n",
    "\n",
    "One slight annoyance of this approach is that we will have to test whether a key exists in the dictionary before adding to the running tally.  The collections module's `defaultdict` class works around this by providing default values for keys that haven't been used.  Thus, if we do"
   ]
  },
  {
   "cell_type": "code",
   "execution_count": 7,
   "metadata": {
    "collapsed": true
   },
   "outputs": [],
   "source": [
    "from collections import defaultdict\n",
    "star_sum = defaultdict(int) # defaultdict allows us so we don't have to initialize\n",
    "count = defaultdict(int)"
   ]
  },
  {
   "cell_type": "markdown",
   "metadata": {},
   "source": [
    "we can increment any key of `stars` or `count` without first worrying whether the key exists.  We need to go through the `data` and `star_ratings` list together, which we can do with the `zip()` function."
   ]
  },
  {
   "cell_type": "code",
   "execution_count": 8,
   "metadata": {},
   "outputs": [
    {
     "name": "stdout",
     "output_type": "stream",
     "text": [
      "167\n"
     ]
    }
   ],
   "source": [
    "for row, stars in zip(data, star_ratings):\n",
    "    # increment the running sum in star_sum\n",
    "    star_sum[row['city']] += stars\n",
    "    # increment the running count in count\n",
    "    count[row['city']] += 1\n",
    "\n",
    "print (len(star_sum))"
   ]
  },
  {
   "cell_type": "markdown",
   "metadata": {},
   "source": [
    "Now we can calculate the average ratings.  Again, a dictionary makes a good container.  (*N.B.* Watch out for Python2's integer division.  Make sure at least one of your values is a float to get floating point division.)"
   ]
  },
  {
   "cell_type": "code",
   "execution_count": 9,
   "metadata": {
    "collapsed": true
   },
   "outputs": [],
   "source": [
    "avg_stars = dict()\n",
    "for city in star_sum:\n",
    "    # calculate average star rating and store in avg_stars\n",
    "    avg_stars[city] = star_sum[city]*1./count[city]"
   ]
  },
  {
   "cell_type": "markdown",
   "metadata": {},
   "source": [
    "There should be 167 different cities:"
   ]
  },
  {
   "cell_type": "code",
   "execution_count": 10,
   "metadata": {
    "collapsed": true
   },
   "outputs": [],
   "source": [
    "assert len(avg_stars) == 167"
   ]
  },
  {
   "cell_type": "markdown",
   "metadata": {},
   "source": [
    "## city_model\n",
    "Now, let's build a custom estimator that will make a prediction based solely on the city of a venue.  It is tempting to hard-code the answers from the previous section into this model, but we're going to resist and do things properly.\n",
    "\n",
    "This custom estimator will have a `.fit()` method.  It will receive `data` as its argument `X` and `star_ratings` as `y`, and should repeat the calculation of the previous problem there.  Then the `.predict()` method can look up the average rating for the city of each record it receives."
   ]
  },
  {
   "cell_type": "code",
   "execution_count": 11,
   "metadata": {
    "collapsed": true
   },
   "outputs": [],
   "source": [
    "from sklearn import base\n",
    "from collections import defaultdict\n",
    "\n",
    "class CityEstimator(base.BaseEstimator, base.RegressorMixin):\n",
    "    \n",
    "    def __init__(self):\n",
    "        self.avg_stars = dict()\n",
    "    \n",
    "    def fit(self, X, y):\n",
    "        # Store the average rating per city in self.avg_stars\n",
    "        star_sum = defaultdict(int) # defaultdict allows us so we don't have to initialize\n",
    "        count = defaultdict(int)\n",
    "        for row, stars in zip(X, y):\n",
    "            # increment the running sum in star_sum\n",
    "            star_sum[row['city']] += stars\n",
    "            # increment the running count in count\n",
    "            count[row['city']] += 1\n",
    "        \n",
    "        # Compute the average\n",
    "        for city in star_sum:\n",
    "            # calculate average star rating and store in avg_stars\n",
    "            self.avg_stars[city] = star_sum[city]*1./count[city]\n",
    "        \n",
    "        return self\n",
    "    \n",
    "    def predict(self, X):\n",
    "        # The city not in X then predict the average it as average of all cities\n",
    "        for row in X:\n",
    "            if row['city'] not in self.avg_stars: \n",
    "                self.avg_stars[row['city']] = sum(self.avg_stars.values())/len(self.avg_stars)\n",
    "                \n",
    "        return [self.avg_stars[row['city']] for row in X]"
   ]
  },
  {
   "cell_type": "markdown",
   "metadata": {},
   "source": [
    "Now we can create an instance of our estimator and train it."
   ]
  },
  {
   "cell_type": "code",
   "execution_count": 12,
   "metadata": {},
   "outputs": [
    {
     "data": {
      "text/plain": [
       "CityEstimator()"
      ]
     },
     "execution_count": 12,
     "metadata": {},
     "output_type": "execute_result"
    }
   ],
   "source": [
    "city_est = CityEstimator()\n",
    "city_est.fit(data, star_ratings)"
   ]
  },
  {
   "cell_type": "markdown",
   "metadata": {},
   "source": [
    "And let's see if it works."
   ]
  },
  {
   "cell_type": "code",
   "execution_count": 13,
   "metadata": {},
   "outputs": [
    {
     "data": {
      "text/plain": [
       "[3.6702903946388683, 3.75, 3.75, 3.75, 3.75]"
      ]
     },
     "execution_count": 13,
     "metadata": {},
     "output_type": "execute_result"
    }
   ],
   "source": [
    "city_est.predict(data[:5])"
   ]
  },
  {
   "cell_type": "markdown",
   "metadata": {},
   "source": [
    "There is a problem, however.  What happens if we're asked to estimate the rating of a venue in a city that's not in our training set?"
   ]
  },
  {
   "cell_type": "code",
   "execution_count": 14,
   "metadata": {},
   "outputs": [
    {
     "data": {
      "text/plain": [
       "[3.7127593360958078]"
      ]
     },
     "execution_count": 14,
     "metadata": {},
     "output_type": "execute_result"
    }
   ],
   "source": [
    "city_est.predict([{'city': 'Timbuktu'}])"
   ]
  },
  {
   "cell_type": "markdown",
   "metadata": {},
   "source": [
    "## lat_long_model\n",
    "You can imagine that a city-based model might not be sufficiently fine-grained. For example, we know that some neighborhoods are trendier than others.  Use the latitude and longitude of a venue as features that help you understand neighborhood dynamics.\n",
    "\n",
    "Instead of writing a custom estimator, we'll use one of the built-in estimators in Scikit Learn.  Since these estimators won't know what to do with a list of dictionaries, we'll build a `ColumnSelectTransformer` that will return an array containing selected keys of our feature matrix.  While it is tempting to hard-code the latitude and longitude in here, this transformer will be more useful in the future if we write it to work on an arbitrary list of columns."
   ]
  },
  {
   "cell_type": "code",
   "execution_count": 15,
   "metadata": {
    "collapsed": true
   },
   "outputs": [],
   "source": [
    "class ColumnSelectTransformer(base.BaseEstimator, base.TransformerMixin):\n",
    "    \n",
    "    def __init__(self, col_names):\n",
    "        self.col_names = col_names  # We will need these in transform()\n",
    "    \n",
    "    def fit(self, X, y=None):\n",
    "        # This transformer doesn't need to learn anything about the data,\n",
    "        # so it can just return self without any further processing\n",
    "        return self\n",
    "    \n",
    "    def transform(self, X):\n",
    "        # Return an array with the same number of rows as X and one\n",
    "        # column for each in self.col_names\n",
    "        X_trans=[]\n",
    "        \n",
    "        for row in X:\n",
    "            X_trans.append([row[col] for col in self.col_names])\n",
    "        \n",
    "        return X_trans"
   ]
  },
  {
   "cell_type": "markdown",
   "metadata": {},
   "source": [
    "Let's test it on a single row, just as a sanity check:"
   ]
  },
  {
   "cell_type": "code",
   "execution_count": 16,
   "metadata": {
    "collapsed": true
   },
   "outputs": [],
   "source": [
    "cst = ColumnSelectTransformer(['latitude', 'longitude'])\n",
    "assert (cst.fit_transform(data[:1])\n",
    "        == [[data[0]['latitude'], data[0]['longitude']]])"
   ]
  },
  {
   "cell_type": "markdown",
   "metadata": {},
   "source": [
    "Now, let's feed the output of the transformer in to a `sklearn.neighbors.KNeighborsRegressor`.  As a sanity check, we'll test it with the first 5 rows.  To truly judge the performance, we'd need to make a test/train split."
   ]
  },
  {
   "cell_type": "code",
   "execution_count": 17,
   "metadata": {},
   "outputs": [
    {
     "data": {
      "text/plain": [
       "array([ 4. ,  4.2,  4. ,  3.8,  4.2])"
      ]
     },
     "execution_count": 17,
     "metadata": {},
     "output_type": "execute_result"
    }
   ],
   "source": [
    "from sklearn.neighbors import KNeighborsRegressor\n",
    "\n",
    "data_transform = cst.fit_transform(data)\n",
    "knn = KNeighborsRegressor(n_neighbors=5)\n",
    "knn.fit(data_transform, star_ratings)\n",
    "test_data = data[:5]\n",
    "test_data_transform = cst.transform(test_data)\n",
    "knn.predict(test_data_transform)"
   ]
  },
  {
   "cell_type": "markdown",
   "metadata": {},
   "source": [
    "Instead of doing this by hand, let's make a pipeline.  Remember that a pipeline is made with a list of (name, transformer-or-estimator) tuples. "
   ]
  },
  {
   "cell_type": "code",
   "execution_count": 18,
   "metadata": {
    "collapsed": true
   },
   "outputs": [],
   "source": [
    "from sklearn.pipeline import Pipeline\n",
    "\n",
    "geo_est = Pipeline([\n",
    "        # ColumnSelectTransformer\n",
    "        ('columnselector',ColumnSelectTransformer(['latitude', 'longitude'])),\n",
    "        # KNeighborsRegressor\n",
    "        ('knn',knn)\n",
    "    ])"
   ]
  },
  {
   "cell_type": "markdown",
   "metadata": {},
   "source": [
    "This should work the same way."
   ]
  },
  {
   "cell_type": "code",
   "execution_count": 19,
   "metadata": {},
   "outputs": [
    {
     "data": {
      "text/plain": [
       "array([ 4. ,  4.2,  4. ,  3.8,  4.2])"
      ]
     },
     "execution_count": 19,
     "metadata": {},
     "output_type": "execute_result"
    }
   ],
   "source": [
    "geo_est.fit(data, star_ratings)\n",
    "geo_est.predict(test_data)"
   ]
  },
  {
   "cell_type": "markdown",
   "metadata": {},
   "source": [
    "The `KNeighborsRegressor` takes the `n_neighbors` hyperparameter, which tells it how many nearest neighbors to average together when making a prediction.  There is no reason to believe that 5 is the optimum value.  Determine a better value of this hyperparameter.   There are several ways to do this:\n",
    "\n",
    "1. Use [train_test_split](http://scikit-learn.org/stable/modules/generated/sklearn.model_selection.train_test_split.html#sklearn.model_selection.train_test_split) to split your data in to a training set and a test set.  Score the performance on the test set.  After finding the best hyperparameter, retrain the model on the full data at that hyperparameter value.\n",
    "\n",
    "2. Use [cross_val_score](http://scikit-learn.org/stable/modules/generated/sklearn.model_selection.cross_val_score.html#sklearn.model_selection.cross_val_score) to return cross-validation scores on your data for various values of the hyperparameter.  Choose the best one, and retrain the model on the full data.\n",
    "\n",
    "3. Use [GridSearchCV](http://scikit-learn.org/stable/modules/generated/sklearn.model_selection.GridSearchCV.html#sklearn.model_selection.GridSearchCV) to do the splitting, training, and grading automatically.  `GridSearchCV` takes an estimator and acts as an estimator.  You can either give it the `KNeighborsRegressor` directly and put it in a pipeline, or you can pass the whole pipeline into the `GridSearchCV`.  In the latter case, remember that the hyperparameter `param` of an estimator named `est` in a pipeline becomes a hyperparameter of the pipeline with name `est__param`.\n"
   ]
  },
  {
   "cell_type": "code",
   "execution_count": 21,
   "metadata": {},
   "outputs": [
    {
     "name": "stdout",
     "output_type": "stream",
     "text": [
      "pipeline: ['columnselector', 'knn']\n",
      "Performing grid search...\n",
      "Pipeline(steps=[('columnselector', ColumnSelectTransformer(col_names=['latitude', 'longitude'])), ('knn', KNeighborsRegressor(algorithm='auto', leaf_size=30, metric='minkowski',\n",
      "          metric_params=None, n_jobs=1, n_neighbors=9, p=2,\n",
      "          weights='uniform'))])\n",
      "{'knn__n_neighbors': 9}\n"
     ]
    }
   ],
   "source": [
    "# Here we use the pipeline model to build the workflow\n",
    "from sklearn.grid_search import GridSearchCV\n",
    "from sklearn.cross_validation import train_test_split\n",
    "from sklearn.metrics import mean_squared_error\n",
    "import numpy as np\n",
    "\n",
    "data_train, data_test, stars_train, stars_test = train_test_split(data, star_ratings, test_size=0.2,random_state=13)\n",
    "\n",
    "print (\"pipeline:\", [name for name, _ in geo_est.steps])\n",
    "\n",
    "# Let's build the model by tunning hyperparameters\n",
    "# When using pipelines, along with the grid search make sure you use keys as your \"className__paramName\"\n",
    "param = {'knn__n_neighbors': np.arange(4, 10)} # \"range\" function in python 3 is a generator not iterator\n",
    "# Or \n",
    "# param = {'knn__n_neighbors': list(range(4, 10))}\n",
    "\n",
    "grid_geo_est = GridSearchCV(geo_est, param_grid=param)\n",
    "\n",
    "print (\"Performing grid search...\")\n",
    "\n",
    "grid_geo_est.fit(data_train,stars_train)\n",
    "\n",
    "print (grid_geo_est.best_estimator_)   \n",
    "print (grid_geo_est.best_params_)"
   ]
  },
  {
   "cell_type": "code",
   "execution_count": 22,
   "metadata": {},
   "outputs": [
    {
     "name": "stdout",
     "output_type": "stream",
     "text": [
      "Mean-square error for model is 0.8165569254898898\n"
     ]
    },
    {
     "data": {
      "image/png": "[encoded data removed]",
      "text/plain": [
       "<matplotlib.figure.Figure at 0x2a473f6f128>"
      ]
     },
     "metadata": {},
     "output_type": "display_data"
    }
   ],
   "source": [
    "# Now predict on the test_data\n",
    "import matplotlib.pyplot as plt\n",
    "\n",
    "rating_prediction = grid_geo_est.predict(data_test)\n",
    "\n",
    "def plot_rating(pred, ground_truth, n_samples=50):\n",
    "    \n",
    "    plt.figure(figsize=(10,6))\n",
    "    plt.plot(pred[:n_samples], 'ro', linewidth=2)\n",
    "    plt.plot(ground_truth[:n_samples], 'b*')\n",
    "    plt.xlabel('Test data points (index)')\n",
    "    plt.ylabel('Star ratings')\n",
    "    plt.legend(['Predicted', 'Actual'])\n",
    "    \n",
    "    print ('Mean-square error for model is {0}'.format(mean_squared_error(pred, ground_truth)))\n",
    "    \n",
    "    return\n",
    "\n",
    "plot_rating(rating_prediction, stars_test)\n"
   ]
  },
  {
   "cell_type": "code",
   "execution_count": 23,
   "metadata": {},
   "outputs": [
    {
     "name": "stdout",
     "output_type": "stream",
     "text": [
      "Performing grid search...\n",
      "Pipeline(steps=[('cst', ColumnSelectTransformer(col_names=['latitude', 'longitude'])), ('rfr', RandomForestRegressor(bootstrap=True, criterion='mse', max_depth=None,\n",
      "           max_features='auto', max_leaf_nodes=None,\n",
      "           min_impurity_split=1e-07, min_samples_leaf=1,\n",
      "           min_samples_split=2, min_weight_fraction_leaf=0.0,\n",
      "           n_estimators=45, n_jobs=1, oob_score=False, random_state=None,\n",
      "           verbose=0, warm_start=False))])\n",
      "{'rfr__n_estimators': 45}\n"
     ]
    }
   ],
   "source": [
    "# Build a using Random forest regressor instead of KNN, to see if the score improves\n",
    "from sklearn.ensemble import RandomForestRegressor\n",
    "from sklearn.metrics import make_scorer\n",
    "\n",
    "geo_est_rfr = Pipeline([\n",
    "    ('cst', cst),\n",
    "    ('rfr', RandomForestRegressor())\n",
    "    ])\n",
    "\n",
    "mse_scorer = make_scorer(mean_squared_error, greater_is_better=False)\n",
    "\n",
    "param = {'rfr__n_estimators':list(range(10, 50, 5))}\n",
    "\n",
    "geo_est_rfr_grid = GridSearchCV(geo_est_rfr, param_grid=param, scoring=mse_scorer)\n",
    "\n",
    "print (\"Performing grid search...\")\n",
    "\n",
    "geo_est_rfr_grid.fit(data_train,stars_train)\n",
    "\n",
    "print (geo_est_rfr_grid.best_estimator_)   \n",
    "print (geo_est_rfr_grid.best_params_)\n",
    "# print (geo_est_rfr_grid.cv_results_)"
   ]
  },
  {
   "cell_type": "code",
   "execution_count": 24,
   "metadata": {},
   "outputs": [
    {
     "name": "stdout",
     "output_type": "stream",
     "text": [
      "Mean-square error for model is 0.8734479689660389\n"
     ]
    },
    {
     "data": {
      "image/png": "[encoded data removed]",
      "text/plain": [
       "<matplotlib.figure.Figure at 0x2a4746019b0>"
      ]
     },
     "metadata": {},
     "output_type": "display_data"
    }
   ],
   "source": [
    "# Test the model\n",
    "rating_prediction = geo_est_rfr_grid.predict(data_test)\n",
    "# plot the prediction\n",
    "plot_rating(rating_prediction, stars_test)\n"
   ]
  },
  {
   "cell_type": "markdown",
   "metadata": {},
   "source": [
    "## category_model\n",
    "While location is important, we could also try seeing how predictive the\n",
    "venue's category is.  Build an estimator that considers only the categories.\n",
    "\n",
    "The categories come as a list of strings, but the built-in estimators all need numeric input.  The standard way to deal with categorical features is **one-hot encoding**, also known as dummy variables.  In this approach, each category gets its own column in the feature matrix.  If the row has a given category, that column gets filled with a 1.  Otherwise, it is 0.\n",
    "\n",
    "The `ColumnSelectTransformer` from the previous question can be used to extract the categories column as a list of strings.  Scikit Learn provides [DictVectorizer](http://scikit-learn.org/stable/modules/generated/sklearn.feature_extraction.DictVectorizer.html#sklearn.feature_extraction.DictVectorizer), which takes in a list of dictionaries.  It creates a column in the output matrix for each key in the dictionary and fills it with the value associated with it.  Missing keys are filled with zeros.  Therefore, we need only build a transformer that takes a list strings to a dictionary with keys given by those strings and values one."
   ]
  },
  {
   "cell_type": "code",
   "execution_count": 25,
   "metadata": {},
   "outputs": [
    {
     "name": "stdout",
     "output_type": "stream",
     "text": [
      "30350\n"
     ]
    }
   ],
   "source": [
    "cst = ColumnSelectTransformer(['categories'])\n",
    "data_transform = cst.fit_transform(data_train)\n",
    "print (len(data_transform))"
   ]
  },
  {
   "cell_type": "code",
   "execution_count": 26,
   "metadata": {
    "collapsed": true,
    "scrolled": true
   },
   "outputs": [],
   "source": [
    "class DictEncoder(base.BaseEstimator, base.TransformerMixin):\n",
    "    \n",
    "    def fit(self, X, y=None):\n",
    "        return self\n",
    "    \n",
    "    def transform(self, X):\n",
    "        # X will come in as a list of lists of lists.  Return a list of\n",
    "        # dictionaries corresponding to those inner lists.\n",
    "                \n",
    "        # X_encoded = [dict((k,1) for k in n) for l in X for n in l] # for python 2.x\n",
    "        \n",
    "        X_encoded = [{k: 1 for k in n} for l in X for n in l] # for python 3.x\n",
    "        # print (X_encoded)\n",
    "        return X_encoded"
   ]
  },
  {
   "cell_type": "markdown",
   "metadata": {},
   "source": [
    "That should allow this to pass:"
   ]
  },
  {
   "cell_type": "code",
   "execution_count": 27,
   "metadata": {
    "collapsed": true
   },
   "outputs": [],
   "source": [
    "assert (DictEncoder().fit_transform([[['a']], [['b', 'c']]])\n",
    "        == [{'a': 1}, {'b': 1, 'c': 1}])"
   ]
  },
  {
   "cell_type": "markdown",
   "metadata": {},
   "source": [
    "Set up a pipeline with your `ColumnSelectTransformer`, your `DictEncoder`, the `DictVectorizer`, and a regularized linear model, like `Ridge`, as the estimator.  This model will have a large number of features, one for each category, so there is a significant danger of overfitting.  Use cross validation to choose the best regularization parameter."
   ]
  },
  {
   "cell_type": "code",
   "execution_count": 28,
   "metadata": {},
   "outputs": [
    {
     "data": {
      "text/plain": [
       "Pipeline(steps=[('cst', ColumnSelectTransformer(col_names=['categories'])), ('encoder', DictEncoder()), ('vectorize', DictVectorizer(dtype=<class 'numpy.float64'>, separator='=', sort=True,\n",
       "        sparse=False)), ('ridgeCV', RidgeCV(alphas=(0.1, 1.0, 10.0), cv=None, fit_intercept=True, gcv_mode=None,\n",
       "    normalize=False, scoring=None, store_cv_values=False))])"
      ]
     },
     "execution_count": 28,
     "metadata": {},
     "output_type": "execute_result"
    }
   ],
   "source": [
    "# Now set up a pipeline\n",
    "from sklearn.linear_model import RidgeCV\n",
    "from sklearn.feature_extraction import DictVectorizer\n",
    "\n",
    "category_pipe_model = Pipeline([('cst', ColumnSelectTransformer(['categories'])),\n",
    "                          ('encoder', DictEncoder()),\n",
    "                           ('vectorize', DictVectorizer(sparse=False)),      \n",
    "                          ('ridgeCV', RidgeCV())\n",
    "               ])\n",
    "\n",
    "category_pipe_model.fit(data_train, stars_train)\n",
    "#transformed_X = category_pipe_model.fit_transform(data_train)\n",
    "#print (len(transformed_X), len(stars_train))"
   ]
  },
  {
   "cell_type": "code",
   "execution_count": 37,
   "metadata": {},
   "outputs": [
    {
     "name": "stdout",
     "output_type": "stream",
     "text": [
      "Mean-square error for model is 0.6562504634115657\n"
     ]
    },
    {
     "data": {
      "image/png": "[encoded data removed]",
      "text/plain": [
       "<matplotlib.figure.Figure at 0x2a4745adf60>"
      ]
     },
     "metadata": {},
     "output_type": "display_data"
    }
   ],
   "source": [
    "predicted_rating = category_pipe_model.predict(data_test)\n",
    "\n",
    "plot_rating(predicted_rating, stars_test)"
   ]
  },
  {
   "cell_type": "markdown",
   "metadata": {},
   "source": [
    "## attribute_model\n",
    "There is even more information in the attributes for each venue.  Let's build an estimator based on these.\n",
    "\n",
    "Venues attributes may be nested:\n",
    "```\n",
    "{\n",
    "  'Attire': 'casual',\n",
    "  'Accepts Credit Cards': True,\n",
    "  'Ambiance': {'casual': False, 'classy': False}\n",
    "}\n",
    "```\n",
    "We wish to encode them with one-hot encoding.  The `DictVectorizer` can do this, but only once we've flattened the dictionary to a single level, like so:\n",
    "```\n",
    "{\n",
    "  'Attire_casual' : 1,\n",
    "  'Accepts Credit Cards': 1,\n",
    "  'Ambiance_casual': 0,\n",
    "  'Ambiance_classy': 0\n",
    "}\n",
    "```\n",
    "\n",
    "Build a custom transformer that flattens the attributes dictionary.  Place this in a pipeline with a `DictVectorizer` and a (cross-validated) regularized linear model."
   ]
  },
  {
   "cell_type": "code",
   "execution_count": 38,
   "metadata": {
    "collapsed": true
   },
   "outputs": [],
   "source": [
    "# Create an Transformer, that will flatten the attribute array\n",
    "# cst = ColumnSelectTransformer(['attributes'])\n",
    "# transformed_X = cst.fit_transform(data)\n",
    "# print (transformed_X[:100])"
   ]
  },
  {
   "cell_type": "code",
   "execution_count": 33,
   "metadata": {},
   "outputs": [],
   "source": [
    "# Create a Flatten transformer\n",
    "\n",
    "class FlattenDictionary(base.BaseEstimator, base.TransformerMixin):\n",
    "    \n",
    "    def fit(self, X, y=None):\n",
    "        return self\n",
    "       \n",
    "    \n",
    "    def transform(self, X):\n",
    "        # X will come in as a list of lists of lists.  \n",
    "        X_encoded_flat = [self.flatten(j) for i in X for j in i] # For every dictionary element in X it returns a flattend array\n",
    "             \n",
    "        return X_encoded_flat\n",
    "    \n",
    "    def flatten(self, dict_item, lkey=''):\n",
    "        # print (dict_item)\n",
    "        dict_flat = {}\n",
    "        for rkey, val in dict_item.items():\n",
    "            key = lkey + rkey\n",
    "            if isinstance(val, dict):\n",
    "                dict_flat.update(self.flatten(val, key+'_')) # update will add the key to the dictionary\n",
    "            else:\n",
    "                if isinstance(val, bool):\n",
    "                    dict_flat[key] = int(val)\n",
    "                else: # This could be a string like \"average\", \"causual\" etc\n",
    "                    dict_flat[key+'_'+str(val)] = 1 # Say that as True i.e, 1\n",
    "        \n",
    "        return dict_flat"
   ]
  },
  {
   "cell_type": "code",
   "execution_count": 34,
   "metadata": {
    "collapsed": true
   },
   "outputs": [],
   "source": [
    "# test_flat = FlattenDictionary()\n",
    "# test_flat.fit(transformed_X)\n",
    "# test_output = test_flat.fit_transform(transformed_X)"
   ]
  },
  {
   "cell_type": "code",
   "execution_count": 40,
   "metadata": {},
   "outputs": [
    {
     "data": {
      "text/plain": [
       "Pipeline(steps=[('cst', ColumnSelectTransformer(col_names=['attributes'])), ('encoder', FlattenDictionary()), ('vectorize', DictVectorizer(dtype=<class 'numpy.float64'>, separator='=', sort=True,\n",
       "        sparse=False)), ('ridgeCV', RidgeCV(alphas=(0.1, 1.0, 10.0), cv=10, fit_intercept=True, gcv_mode=None,\n",
       "    normalize=False, scoring=None, store_cv_values=False))])"
      ]
     },
     "execution_count": 40,
     "metadata": {},
     "output_type": "execute_result"
    }
   ],
   "source": [
    "attributes_pipe_model = Pipeline([('cst', ColumnSelectTransformer(['attributes'])),\n",
    "                          ('encoder', FlattenDictionary()),\n",
    "                           ('vectorize', DictVectorizer(sparse=False)),      \n",
    "                          ('ridgeCV', RidgeCV(alphas=(0.1, 1.0, 10.0), cv=10))\n",
    "               ])\n",
    "\n",
    "attributes_pipe_model.fit(data_train, stars_train)"
   ]
  },
  {
   "cell_type": "code",
   "execution_count": 41,
   "metadata": {},
   "outputs": [
    {
     "name": "stdout",
     "output_type": "stream",
     "text": [
      "Mean-square error for model is 0.7347566724645319\n"
     ]
    },
    {
     "data": {
      "image/png": "[encoded data removed]",
      "text/plain": [
       "<matplotlib.figure.Figure at 0x2a4742875f8>"
      ]
     },
     "metadata": {},
     "output_type": "display_data"
    }
   ],
   "source": [
    "predicted_rating = attributes_pipe_model.predict(data_test)\n",
    "\n",
    "plot_rating(predicted_rating, stars_test)"
   ]
  },
  {
   "cell_type": "markdown",
   "metadata": {},
   "source": [
    "*Extension:* A common approach is to use a linear model to fit the linear part of some data, and use a non-linear model to fit the residual that the linear model can't fit.  Build a residual estimator that takes as an argument two other estimators.  It should use the first to fit the raw data and the second to fit the residuals of the first.  Can you improve performance with this setup?"
   ]
  },
  {
   "cell_type": "markdown",
   "metadata": {},
   "source": [
    "## full_model\n",
    "So far we have only built models based on individual features.  Now we will build an ensemble regressor that averages together the estimates of the four previous regressors.\n",
    "\n",
    "In order to use the existing models as input to an estimator, we will have to turn them into transformers.  (A pipeline can contain at most a single estimator.)  Build a custom `ModelTransformer` class that takes an estimator as an argument.  When `fit()` is called, the estimator should be fit.  When `transform()` is called, the estimator's `predict()` method should be called, and its results returned.\n",
    "\n",
    "Note that the output of the `transform()` method should be a 2-D array with a single column, in order for it to work well with the Scikit Learn pipeline.  If you're using Numpy arrays, you can use `.reshape(-1, 1)` to create a column vector.  If you are just using Python lists, you will want a list of lists of single elements."
   ]
  },
  {
   "cell_type": "code",
   "execution_count": 42,
   "metadata": {
    "collapsed": true
   },
   "outputs": [],
   "source": [
    "class EstimatorTransformer(base.BaseEstimator, base.TransformerMixin):\n",
    "    \n",
    "    def __init__(self, estimator):\n",
    "        # What needs to be done here?\n",
    "        self.estimator = estimator\n",
    "    \n",
    "    def fit(self, X, y):\n",
    "        # Fit the stored estimator.\n",
    "        self.estimator.fit(X, y)\n",
    "        # Returning allows you to do method chaining\n",
    "        return self # This is necessary outwise feature-union will not work\n",
    "    \n",
    "    def transform(self, X):\n",
    "        # Use predict on the stored estimator as a \"transformation\".\n",
    "        # This should be a 2D array for union to work\n",
    "        # X = np.array(X)\n",
    "        # print (X)\n",
    "        return np.array(self.estimator.predict(X)).reshape(-1,1)"
   ]
  },
  {
   "cell_type": "markdown",
   "metadata": {},
   "source": [
    "This should work as follows:"
   ]
  },
  {
   "cell_type": "code",
   "execution_count": 43,
   "metadata": {},
   "outputs": [
    {
     "name": "stdout",
     "output_type": "stream",
     "text": [
      "(5, 1)\n"
     ]
    }
   ],
   "source": [
    "city_trans = EstimatorTransformer(city_est)\n",
    "city_trans.fit(data, star_ratings)\n",
    "# print (city_est.predict(data[:5]))\n",
    "print (city_trans.transform(data[:5]).shape)\n",
    "assert ([r[0] for r in city_trans.transform(data[:5])] == city_est.predict(data[:5]))"
   ]
  },
  {
   "cell_type": "markdown",
   "metadata": {},
   "source": [
    "Create an instance of `ModelTransformer` for each of the previous four models. Combine these together in a single feature matrix with a\n",
    "[FeatureUnion](http://scikit-learn.org/stable/modules/generated/sklearn.pipeline.FeatureUnion.html#sklearn.pipeline.FeatureUnion)."
   ]
  },
  {
   "cell_type": "code",
   "execution_count": 51,
   "metadata": {},
   "outputs": [
    {
     "name": "stdout",
     "output_type": "stream",
     "text": [
      "FeatureUnion(n_jobs=1,\n",
      "       transformer_list=[('city_mdl', EstimatorTransformer(estimator=CityEstimator())), ('geo_mdl', EstimatorTransformer(estimator=GridSearchCV(cv=None, error_score='raise',\n",
      "       estimator=Pipeline(steps=[('columnselector', ColumnSelectTransformer(col_names=['latitude', 'longitude'])), ('knn', KNeighbors..., fit_intercept=True, gcv_mode=None,\n",
      "    normalize=False, scoring=None, store_cv_values=False))])))],\n",
      "       transformer_weights=None)\n"
     ]
    }
   ],
   "source": [
    "from sklearn.pipeline import FeatureUnion\n",
    "\n",
    "feature_union = FeatureUnion([('city_mdl', EstimatorTransformer(city_est)), \n",
    "                              ('geo_mdl', EstimatorTransformer(grid_geo_est)),\n",
    "                              ('category_mdl', EstimatorTransformer(category_pipe_model)), \n",
    "                              ('attributes_mdl', EstimatorTransformer(attributes_pipe_model))\n",
    "                             ])\n",
    "print (feature_union)"
   ]
  },
  {
   "cell_type": "markdown",
   "metadata": {},
   "source": [
    "This should return a feature matrix with four columns."
   ]
  },
  {
   "cell_type": "code",
   "execution_count": 53,
   "metadata": {},
   "outputs": [
    {
     "name": "stdout",
     "output_type": "stream",
     "text": [
      "(37938, 4)\n"
     ]
    }
   ],
   "source": [
    "transformed_data = feature_union.fit(data, star_ratings).transform(data)\n",
    "#transformed_data = feature_union.transform(data)\n",
    "\n",
    "print (transformed_data.shape)"
   ]
  },
  {
   "cell_type": "code",
   "execution_count": 57,
   "metadata": {},
   "outputs": [
    {
     "name": "stdout",
     "output_type": "stream",
     "text": [
      "Mean-square error for model is 0.5583939810517878\n"
     ]
    },
    {
     "data": {
      "image/png": "[encoded data removed]",
      "text/plain": [
       "<matplotlib.figure.Figure at 0x2a4747d1ac8>"
      ]
     },
     "metadata": {},
     "output_type": "display_data"
    }
   ],
   "source": [
    "# print (transformed_data[:10])\n",
    "# Now use the simple Linear regression of the tranformed data\n",
    "from sklearn.linear_model import LinearRegression\n",
    "\n",
    "data_train, data_test, stars_train, stars_test = train_test_split(transformed_data, star_ratings, \n",
    "                                                                  test_size=0.2,random_state=13)\n",
    "full_model_lr = LinearRegression()\n",
    "\n",
    "full_model_lr.fit(data_train, stars_train)\n",
    "predictions_full_model = full_model_lr.predict(data_test)\n",
    "\n",
    "plot_rating(predictions_full_model, stars_test)\n"
   ]
  },
  {
   "cell_type": "code",
   "execution_count": 68,
   "metadata": {},
   "outputs": [
    {
     "name": "stdout",
     "output_type": "stream",
     "text": [
      "Mean-square error for model is 0.6808817736187274\n"
     ]
    },
    {
     "data": {
      "image/png": "[encoded data removed]",
      "text/plain": [
       "<matplotlib.figure.Figure at 0x2a40093e4a8>"
      ]
     },
     "metadata": {},
     "output_type": "display_data"
    }
   ],
   "source": [
    "# We use random forest model\n",
    "full_model_rfr = RandomForestRegressor()\n",
    "full_model_rfr.fit(data_train, stars_train)\n",
    "\n",
    "predictions_full_model_rfr = full_model_rfr.predict(data_test)\n",
    "plot_rating(predictions_full_model_rfr, stars_test)"
   ]
  },
  {
   "cell_type": "markdown",
   "metadata": {},
   "source": [
    "In the below code, I have used a normal way of combining the estimators (you can make an anology with feature union)."
   ]
  },
  {
   "cell_type": "code",
   "execution_count": 58,
   "metadata": {
    "collapsed": true
   },
   "outputs": [],
   "source": [
    "# Somehow feature union is not working :(\n",
    "import pandas as pd\n",
    "\n",
    "mdl_names = ['city_mdl', 'geo_mdl', 'category_mdl', 'attributes_mdl']\n",
    "models = [city_est, grid_geo_est, category_pipe_model, attributes_pipe_model]\n",
    "combined_features = pd.DataFrame(index = range(len(data)), columns=mdl_names)\n",
    "\n",
    "\n",
    "for mdl, mdl_name in zip(models, mdl_names):\n",
    "    \n",
    "    trans_mdl = EstimatorTransformer(mdl)\n",
    "    \n",
    "    trans_mdl.fit(data, star_ratings)\n",
    "    \n",
    "    data_trans_mdl = trans_mdl.transform(data)\n",
    "    combined_features[mdl_name] = data_trans_mdl\n",
    "\n",
    "    \n"
   ]
  },
  {
   "cell_type": "markdown",
   "metadata": {},
   "source": [
    "Finally, use a pipeline to combine the feature union with a linear regression (or another model) to weight the predictions."
   ]
  },
  {
   "cell_type": "code",
   "execution_count": 59,
   "metadata": {},
   "outputs": [
    {
     "name": "stdout",
     "output_type": "stream",
     "text": [
      "   city_mdl   geo_mdl  category_mdl  attributes_mdl\n",
      "0   3.67029  3.777778      3.381382        4.053414\n",
      "1   3.75000  3.777778      3.379125        3.461948\n",
      "2   3.75000  4.055556      3.299097        3.697445\n",
      "3   3.75000  4.000000      3.232245        3.230599\n",
      "4   3.75000  3.888889      3.313543        3.207687\n"
     ]
    }
   ],
   "source": [
    "print (combined_features.head())"
   ]
  },
  {
   "cell_type": "code",
   "execution_count": 60,
   "metadata": {
    "collapsed": true
   },
   "outputs": [],
   "source": [
    "# Now we can use linear regresssion to combine these models\n",
    "\n",
    "\n",
    "lr_mdl = LinearRegression()\n",
    "rfr_mdl = RandomForestRegressor()\n",
    "\n",
    "data_train, data_test, stars_train, stars_test = train_test_split(combined_features, star_ratings, test_size=0.2,random_state=13)\n",
    "\n"
   ]
  },
  {
   "cell_type": "code",
   "execution_count": 61,
   "metadata": {
    "collapsed": true
   },
   "outputs": [],
   "source": [
    "lr_mdl.fit(data_train, stars_train)\n",
    "rfr_mdl.fit(data_train, stars_train)\n",
    "rating_predictions = lr_mdl.predict(data_test)\n"
   ]
  },
  {
   "cell_type": "code",
   "execution_count": 62,
   "metadata": {},
   "outputs": [
    {
     "name": "stdout",
     "output_type": "stream",
     "text": [
      "Mean-square error for model is 0.680135745064385\n"
     ]
    },
    {
     "data": {
      "image/png": "[encoded data removed]",
      "text/plain": [
       "<matplotlib.figure.Figure at 0x2a40220b5f8>"
      ]
     },
     "metadata": {},
     "output_type": "display_data"
    }
   ],
   "source": [
    "rating_predictions_rfr = rfr_mdl.predict(data_test)\n",
    "plot_rating(rating_predictions_rfr, stars_test)"
   ]
  },
  {
   "cell_type": "code",
   "execution_count": 63,
   "metadata": {},
   "outputs": [
    {
     "name": "stdout",
     "output_type": "stream",
     "text": [
      "Mean-square error for model is 0.5583939810517863\n"
     ]
    },
    {
     "data": {
      "image/png": "[encoded data removed]",
      "text/plain": [
       "<matplotlib.figure.Figure at 0x2a40220b2e8>"
      ]
     },
     "metadata": {},
     "output_type": "display_data"
    }
   ],
   "source": [
    "plot_rating(rating_predictions, stars_test)"
   ]
  },
  {
   "cell_type": "markdown",
   "metadata": {},
   "source": [
    "*Extension:* By combining our models with a linear model, we will be unable to notice any correlation between features.  We don't expect all attributes to have the same effect on all venues.  For example, \"Ambiance: divey\" might be a bad indicator for a restaurant but a good one for a bar.  Nonlinear models can pick up on this interaction.  Replace the linear model combining the predictions with a nonlinear one like [RandomForestRegressor](http://scikit-learn.org/stable/modules/generated/sklearn.ensemble.RandomForestRegressor.html#sklearn.ensemble.RandomForestRegressor).  Better yet, use the nonlinear model to fit the residuals of the linear model."
   ]
  },
  {
   "cell_type": "code",
   "execution_count": null,
   "metadata": {
    "collapsed": true
   },
   "outputs": [],
   "source": []
  }
 ],
 "metadata": {
  "kernelspec": {
   "display_name": "Python 3",
   "language": "python",
   "name": "python3"
  },
  "language_info": {
   "codemirror_mode": {
    "name": "ipython",
    "version": 3
   },
   "file_extension": ".py",
   "mimetype": "text/x-python",
   "name": "python",
   "nbconvert_exporter": "python",
   "pygments_lexer": "ipython3",
   "version": "3.6.1"
  }
 },
 "nbformat": 4,
 "nbformat_minor": 1
}
